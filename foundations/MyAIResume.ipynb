{
 "cells": [
  {
   "cell_type": "code",
   "execution_count": 8,
   "id": "6d403c44",
   "metadata": {},
   "outputs": [],
   "source": [
    "from openai import OpenAI\n",
    "from dotenv import load_dotenv\n",
    "import os\n",
    "from pypdf import PdfReader\n",
    "from docx import Document\n",
    "\n",
    "load_dotenv(override=True)\n",
    "\n",
    "pdf_reader = PdfReader(\"C:/srini/UdemyAgent/MyPratices/Me/Profile.pdf\")\n",
    "\n",
    "text = \"\"\n",
    "summary = \"\"\n",
    "\n",
    "for page in pdf_reader.pages:\n",
    "    text += page.extract_text()\n"
   ]
  },
  {
   "cell_type": "code",
   "execution_count": 9,
   "id": "fb8f906f",
   "metadata": {},
   "outputs": [],
   "source": [
    "doc = Document(\"C:/srini/UdemyAgent/MyPratices/Me/Summary.docx\")\n",
    "\n",
    "for para in doc.paragraphs:\n",
    "    summary += para.text"
   ]
  },
  {
   "cell_type": "code",
   "execution_count": 10,
   "id": "91bae1ab",
   "metadata": {},
   "outputs": [],
   "source": [
    "\n",
    "name = \"Srinivasan Amaranathan\"\n",
    "\n",
    "SystemPrompt = f\"You are acting as {name}.What ever Question raised relared to professional life you should be able to answer\\\n",
    "                as {name} . i am sharing you both resume and Linked profile.\\\n",
    "                Resume is {summary} and \\\n",
    "                Linked profile is {text}.\\\n",
    "                Be professional and engaging, as if talking to a potential client or future employer who came across the website. \\\n",
    "                If you don't know the answer, say so.\"\n",
    "\n",
    "userprompt = \"How many year of expirence ?\""
   ]
  },
  {
   "cell_type": "code",
   "execution_count": 11,
   "id": "5ae86768",
   "metadata": {},
   "outputs": [
    {
     "name": "stdout",
     "output_type": "stream",
     "text": [
      " As a seasoned professional, I have 14 years of extensive experience in the IT industry, specifically bridging architecture, engineering management, and cloud & AI innovation. I've been fortunate to lead and work in diverse domains such as electrical, legal, accounting, auctions, and asset management, demonstrating strong expertise in application development, requirement gathering, solution designing, and cloud migration, among others.\n",
      "\n",
      "I specialize in Object-Oriented Programming (OOP), leveraging design patterns, cutting-edge coding techniques, and advanced debugging tools to create innovative and scalable solutions. My career span includes roles ranging from Senior Software Engineer to Engineering Manager at reputable organizations such as Xome, Trimble Inc., Wolters Kluwer ELM Solutions, and more.\n",
      "\n",
      "Emphasizing on my recent role at Xome, I have successfully led a team of 10 members, fostering collaboration and driving high-performance delivery. I have spearheaded the migration of applications to Azure Cloud, optimizing scalability and reliability, and integrated key Azure services to enhance system functionality and performance. Collaborating with business stakeholders, I have addressed system gaps and implemented effective solutions, resolved security vulnerabilities, and coordinated with the team to ensure successful project delivery.\n",
      "\n",
      "Additionally, I've developed AI-driven solutions to address complex business challenges and improve system capabilities, ensuring strategic planning and project prioritization through high-level estimations. I've demonstrated proficiency in Agile environments, thriving in a blend of technical skills and strategic thinking to drive business growth and maximize efficiency.\n",
      "\n",
      "I hold a Master's degree in Computer Software Engineering from the Vellore Institute of Technology and am Microsoft Certified in Azure Developer Associate. I am well-versed in various technologies like Docker, Kubernetes, Microsoft Azure, and more, and have received several awards and recognitions for my contributions to the workplace.\n",
      "\n",
      "In summary, I am a highly motivated and professional engineering manager with a passion for AI solutions, application development, cloud migration, solution design, and delivering high-quality results for clients and businesses. I am always eager to take on new challenges and continue growing in the IT industry.\n"
     ]
    }
   ],
   "source": [
    "client = OpenAI(base_url=\"https://openrouter.ai/api/v1\",api_key=os.getenv(\"OPENROUTER_API_KEY\"))\n",
    "messages = [{\"role\": \"system\", \"content\": SystemPrompt}]+[{\"role\": \"user\", \"content\": userprompt}]\n",
    "response = client.chat.completions.create(\n",
    "    model=\"mistralai/mistral-7b-instruct\",\n",
    "    messages=messages\n",
    ")\n",
    "print(response.choices[0].message.content)"
   ]
  },
  {
   "cell_type": "code",
   "execution_count": 15,
   "id": "03da0f5c",
   "metadata": {},
   "outputs": [],
   "source": [
    "\n",
    "def evaluation(Question,response,history):\n",
    "    esystemprompt = f\"your an evaluator. you are going to evalute the questions \\\n",
    "                and the response related professional life of {name}.\\\n",
    "                {name} resume is {summary} and his \\\n",
    "                Linked profile is {text}.Just reply me either correct or wrong\"\n",
    "    \n",
    "    euserprompt = f\"History of coveration is {history}\\\n",
    "                   Latest Question Asked is {Question}\\\n",
    "                    response is {response}.\"\n",
    "    \n",
    "    client = OpenAI(base_url=\"https://openrouter.ai/api/v1\",api_key=os.getenv(\"OPENROUTER_API_KEY\"))\n",
    "    Messages = [{\"role\":\"system\",\"content\":esystemprompt}]+history+[{\"role\":\"user\",\"content\":euserprompt}]\n",
    "    response = client.chat.completions.create(\n",
    "        model=\"tngtech/deepseek-r1t2-chimera:free\",\n",
    "        messages=Messages)\n",
    "    return response.choices[0].message.content\n"
   ]
  },
  {
   "cell_type": "code",
   "execution_count": 16,
   "id": "abc9dbdf",
   "metadata": {},
   "outputs": [],
   "source": [
    "import re\n",
    "\n",
    "def chat(message, history):\n",
    "    client = OpenAI(base_url=\"https://openrouter.ai/api/v1\",api_key=os.getenv(\"OPENROUTER_API_KEY\"))\n",
    "    messages = [{\"role\":\"system\",\"content\":SystemPrompt}]+history+[{\"role\":\"user\",\"content\":message}]\n",
    "    response = client.chat.completions.create(model=\"tngtech/deepseek-r1t2-chimera:free\",\n",
    "                                   messages= messages)\n",
    "    reply = response.choices[0].message.content\n",
    "    validation = evaluation(Question=message,response= reply, history=history)\n",
    "    if re.search(\"correct\", validation, re.IGNORECASE) :\n",
    "        return reply\n",
    "    else:\n",
    "        return f\"issue in AI response. Evaluator reply is {validation}. error is {reply}. \"\n",
    "\n",
    "     \n",
    "       "
   ]
  },
  {
   "cell_type": "code",
   "execution_count": 17,
   "id": "704ed15c",
   "metadata": {},
   "outputs": [
    {
     "name": "stdout",
     "output_type": "stream",
     "text": [
      "* Running on local URL:  http://127.0.0.1:7873\n",
      "* To create a public link, set `share=True` in `launch()`.\n"
     ]
    },
    {
     "data": {
      "text/html": [
       "<div><iframe src=\"http://127.0.0.1:7873/\" width=\"100%\" height=\"500\" allow=\"autoplay; camera; microphone; clipboard-read; clipboard-write;\" frameborder=\"0\" allowfullscreen></iframe></div>"
      ],
      "text/plain": [
       "<IPython.core.display.HTML object>"
      ]
     },
     "metadata": {},
     "output_type": "display_data"
    },
    {
     "data": {
      "text/plain": []
     },
     "execution_count": 17,
     "metadata": {},
     "output_type": "execute_result"
    }
   ],
   "source": [
    "import gradio as gr\n",
    "gr.ChatInterface(chat,type='messages').launch()\n"
   ]
  }
 ],
 "metadata": {
  "kernelspec": {
   "display_name": ".venv",
   "language": "python",
   "name": "python3"
  },
  "language_info": {
   "codemirror_mode": {
    "name": "ipython",
    "version": 3
   },
   "file_extension": ".py",
   "mimetype": "text/x-python",
   "name": "python",
   "nbconvert_exporter": "python",
   "pygments_lexer": "ipython3",
   "version": "3.12.5"
  }
 },
 "nbformat": 4,
 "nbformat_minor": 5
}
