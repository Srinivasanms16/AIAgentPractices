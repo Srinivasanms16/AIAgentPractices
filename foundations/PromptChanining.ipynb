{
 "cells": [
  {
   "cell_type": "code",
   "execution_count": 2,
   "id": "5d1fa13b",
   "metadata": {},
   "outputs": [
    {
     "data": {
      "text/plain": [
       "True"
      ]
     },
     "execution_count": 2,
     "metadata": {},
     "output_type": "execute_result"
    }
   ],
   "source": [
    "from dotenv import load_dotenv\n",
    "load_dotenv(override=True)"
   ]
  },
  {
   "cell_type": "code",
   "execution_count": 3,
   "id": "700ab051",
   "metadata": {},
   "outputs": [
    {
     "name": "stdout",
     "output_type": "stream",
     "text": [
      " Healthcare, particularly Personalized Medicine: Leveraging Agentic AI can revolutionize predictive diagnostics, precision treatment planning, and patient-centric care, improving outcomes and reducing costs.\n"
     ]
    }
   ],
   "source": [
    "from ctypes import cast\n",
    "import os\n",
    "from openai import OpenAI\n",
    "\n",
    "client = OpenAI(base_url=\"https://openrouter.ai/api/v1\",api_key=os.getenv(\"OPENROUTER_API_KEY\"))\n",
    "mymodel = \"mistralai/mistral-7b-instruct\"\n",
    "role = \"user\"\n",
    "message = \"Provide me a just bussiness sector name which is best for exploring the Agentic AI. Response should be in 25 words.\"\n",
    "\n",
    "response = client.chat.completions.create(model=mymodel,\n",
    "            messages=[{\"role\":role,\"content\":message}])\n",
    "Bussiness_area = response.choices[0].message.content\n",
    "print(Bussiness_area);\n",
    "\n"
   ]
  },
  {
   "cell_type": "code",
   "execution_count": 4,
   "id": "c469058c",
   "metadata": {},
   "outputs": [
    {
     "name": "stdout",
     "output_type": "stream",
     "text": [
      " Implementing Personalized Medicine with the help of Agentic AI (Autonomous, Intelligent, and Agile Artificial Intelligence) in healthcare presents several challenges:\n",
      "\n",
      "1. Data Privacy and Security: Personalized medicine involves dealing with sensitive patient data, making data privacy and security a critical concern. Strict regulations such as HIPAA in the U.S. must be adhered to, and advanced data encryption and multi-factor authentication methods must be in place to protect patient information.\n",
      "\n",
      "2. Data Quality and Integrity: To develop effective models for personalized medicine, the quality of data is of utmost importance. The AI models should be trained on high-quality, diverse, and unbiased data to ensure fairness and accuracy in predictive diagnostics and treatment recommendations.\n",
      "\n",
      "3. Algorithmic Bias and Fairness: AI systems may unintentionally reproduce or amplify the biases present in the training data, leading to inaccurate or unequal treatment recommendations. It is essential to address this issue by employing techniques like auditing AI models and continually monitoring and adjusting them to minimize bias.\n",
      "\n",
      "4. Interpretability and Explainability: It is crucial for healthcare professionals to understand how the AI system reaches its conclusions, so they can trust the recommendations and ensure they are providing optimal care to patients. Transparent and explainable AI techniques, like LIME or SHAP, can help achieve this.\n",
      "\n",
      "5. Ethical and Legal Considerations: Ethical concerns such as patient consent, ownership of data, and the potential for AI decisions overriding human judgment must be addressed. Legal implications of using AI in healthcare should be evaluated and regulations established to ensure patient safety and protection.\n",
      "\n",
      "6. Integration with Existing Systems: AI systems must be designed to seamlessly integrate with existing health information systems and electronic health records (EHRs) to prioritize interoperability and ensure a smooth transition to a more technology-centered healthcare model.\n",
      "\n",
      "7. AI Generalizing to New and Rare Conditions: AI models need to be trained and validated on various clinical scenarios to ensure they can identify and make accurate recommendations for both common and rare conditions.\n",
      "\n",
      "8. Lack of Standardization: There is a need for standardized data formats, APIs, guidelines, and methodologies to effectively scale up AI solutions in healthcare and facilitate information sharing and collaborative learning among multiple healthcare providers and institutions.\n",
      "\n",
      "9. Resistance to Change: Lack of trust in AI and resistance to change from healthcare providers may slow down the adoption and integration of AI in healthcare. Addressing these concerns through education, training, and emphasizing the benefits of AI in improving patient care is essential.\n",
      "\n",
      "10. Costs of Implementation: The initial investment in resources, infrastructure, and training required to implement AI in healthcare can be substantial, and there may be associated ongoing costs to maintain and update the system.\n",
      "\n",
      "By addressing these challenges, we can successfully leverage AI to revolutionize healthcare, leading to improved outcomes, reduced costs, and more personalized care for patients. Consulting with experts in AI, ethics, and healthcare and collaboration between organizations will be essential in overcoming these hurdles.\n"
     ]
    }
   ],
   "source": [
    "message = f\"what are all the challange in implementing {Bussiness_area}\"\n",
    "\n",
    "response = client.chat.completions.create(model=mymodel,\n",
    "            messages=[{\"role\":role,\"content\":message}])\n",
    "\n",
    "Pain_point = response.choices[0].message.content\n",
    "print(Pain_point);\n",
    "\n",
    "\n",
    "\n",
    "\n",
    "\n",
    "\n",
    "\n",
    "\n",
    "\n"
   ]
  }
 ],
 "metadata": {
  "kernelspec": {
   "display_name": ".venv",
   "language": "python",
   "name": "python3"
  },
  "language_info": {
   "codemirror_mode": {
    "name": "ipython",
    "version": 3
   },
   "file_extension": ".py",
   "mimetype": "text/x-python",
   "name": "python",
   "nbconvert_exporter": "python",
   "pygments_lexer": "ipython3",
   "version": "3.12.5"
  }
 },
 "nbformat": 4,
 "nbformat_minor": 5
}
