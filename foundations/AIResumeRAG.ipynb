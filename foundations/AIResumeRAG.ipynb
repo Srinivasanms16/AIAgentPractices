{
 "cells": [
  {
   "cell_type": "code",
   "execution_count": 171,
   "metadata": {},
   "outputs": [
    {
     "data": {
      "text/plain": [
       "True"
      ]
     },
     "execution_count": 171,
     "metadata": {},
     "output_type": "execute_result"
    }
   ],
   "source": [
    "from dotenv import load_dotenv\n",
    "from openai import OpenAI\n",
    "from pypdf import PdfReader\n",
    "from docx import Document\n",
    "import gradio as gr \n",
    "import os\n",
    "import requests\n",
    "import json\n",
    "\n",
    "load_dotenv(override=True)\n"
   ]
  },
  {
   "cell_type": "code",
   "execution_count": 172,
   "metadata": {},
   "outputs": [],
   "source": [
    "Push_over_user = os.getenv(\"PUSHOVER_USER_KEY\")\n",
    "Push_over_API_Token = os.getenv(\"PUSHOVER_API_TOKEN\")\n",
    "PushOver_URL = \"https://api.pushover.net/1/messages.json\""
   ]
  },
  {
   "cell_type": "code",
   "execution_count": 173,
   "metadata": {},
   "outputs": [],
   "source": [
    "def notifyUnansweredQuestion(Question):\n",
    "     payload = {\"user\": Push_over_user, \"token\": Push_over_API_Token, \"message\": Question}\n",
    "     response = requests.post(url=PushOver_URL,data=payload)\n",
    "     #print(Question)\n",
    "     return {\"recorded\":\"Ok\"}\n",
    "    "
   ]
  },
  {
   "cell_type": "code",
   "execution_count": 174,
   "metadata": {},
   "outputs": [],
   "source": [
    "def notifyUserInfo(email):\n",
    "    data = {\"token\": Push_over_API_Token,\"user\": Push_over_user,\"message\": f\"user {email} is intreasted to discuss with you..!\"}\n",
    "    requests.post(url=PushOver_URL,data=data)\n",
    "    #print(email)\n",
    "    return {\"recorded\":\"Ok\"}"
   ]
  },
  {
   "cell_type": "code",
   "execution_count": 175,
   "metadata": {},
   "outputs": [],
   "source": [
    "notifyUnansweredQuestionTool={\n",
    "    \"name\":\"NotifyUnansweredQuestion\",\n",
    "    \"Description\":\"This function is used to notify Question asked. when you dont know the answer.\",\n",
    "    \"type\":\"Object\",\n",
    "    \"Parameter\":{\n",
    "        \"name\":\"Question\",\n",
    "        \"type\":\"String\"\n",
    "    },\n",
    "    \"required\":[\"email\"]\n",
    "}\n",
    "\n",
    "notifyUserInfoTool={\n",
    "    \"name\":\"notifyUserInfo\",\n",
    "    \"Description\": \"This fuction will notify the user's email. who is interested to reach me.\",\n",
    "    \"type\":\"Object\",\n",
    "    \"parameter\":{\n",
    "        \"name\":\"email\",\n",
    "        \"type\":\"string\"\n",
    "    },\n",
    "    \"required\":[\"email\"]\n",
    "}\n",
    "Tool=[{\"type\":\"function\", \"function\":notifyUnansweredQuestionTool},\n",
    "      {\"type\":\"function\", \"function\":notifyUserInfoTool}]"
   ]
  },
  {
   "cell_type": "code",
   "execution_count": 176,
   "metadata": {},
   "outputs": [],
   "source": [
    "def handelfunction(tool_calls):\n",
    "\n",
    "     for tool_call in tool_calls:\n",
    "        tool_name = tool_call.function.name\n",
    "        arguments = json.loads(tool_call.function.arguments)\n",
    "        print(f\"Tool called: {tool_name}\", flush=True)\n",
    "\n",
    "        # THE BIG IF STATEMENT!!!\n",
    "        results = []\n",
    "        if tool_name == \"notifyUnansweredQuestionTool\":\n",
    "            result = notifyUnansweredQuestion(**arguments)\n",
    "        elif tool_name == \"notifyUserInfoTool\":\n",
    "            result = notifyUserInfo(**arguments)\n",
    "\n",
    "    # results.append({\"role\": \"tool\",\"content\": json.dumps(result),\"tool_call_id\": tool_calls.id})"
   ]
  },
  {
   "cell_type": "code",
   "execution_count": 177,
   "metadata": {},
   "outputs": [],
   "source": [
    "pdfreader = PdfReader(\"./me/Profile.pdf\")\n",
    "LinkedInProfile = \"\"\n",
    "for page in pdfreader.pages: \n",
    "        LinkedInProfile += page.extract_text()\n",
    "\n",
    "summary = \"\"\n",
    "doc = Document(\"./Me/Summary.docx\")\n",
    "for para in doc.paragraphs:\n",
    "    summary += para.text"
   ]
  },
  {
   "cell_type": "code",
   "execution_count": 178,
   "metadata": {},
   "outputs": [],
   "source": [
    "name = \"Srinivasan Amaranathan\"\n",
    "\n",
    "SystemPrompt = f\"You are acting as {name}.What ever Question raised relared to professional life you should be able to answer\\\n",
    "                as {name} . i am sharing you both resume and Linked profile.\\\n",
    "                Resume is {summary} and \\\n",
    "                Linked profile is {LinkedInProfile}.\\\n",
    "                Be professional and engaging, as if talking to a potential client or future employer who came across the website. \\\n",
    "                Notify the user details such as email id who are initiating the Chat.\\\n",
    "                if you dont know the answer notify me the question.\"\n",
    "\n",
    "SystemPrompt += f\"\\n\\n## Resume:\\n{summary}\\n\\n## LinkedIn Profile:\\n{LinkedInProfile}\\n\\n\"\n",
    "SystemPrompt += f\"With this context, please chat with the user, always staying in character as {name}.\""
   ]
  },
  {
   "cell_type": "code",
   "execution_count": 179,
   "metadata": {},
   "outputs": [],
   "source": [
    "def chat(message, history):\n",
    "    client = OpenAI(base_url=\"http://localhost:11434/v1\",api_key=\"Ollama\")\n",
    "    message = [{\"role\":\"system\",\"content\":SystemPrompt}]+history+[{\"role\":\"user\",\"content\":message}]\n",
    "    done = \"true\"\n",
    "\n",
    "    while done == \"true\":\n",
    "      response = client.chat.completions.create(model=\"llama3.2:3b\",\n",
    "                                    messages=message,\n",
    "                                  tools=Tool)\n",
    "      print(response.choices[0].finish_reason)\n",
    "      if response.choices[0].finish_reason == \"tool_calls\":\n",
    "         results = handelfunction(response.choices[0].message.tool_calls)\n",
    "         message.append(message)\n",
    "         message.extend(results)\n",
    "      else:\n",
    "         done = \"False\"\n",
    "\n",
    "    return response.choices[0].message.content\n",
    "        \n",
    "    "
   ]
  },
  {
   "cell_type": "code",
   "execution_count": 180,
   "metadata": {},
   "outputs": [
    {
     "name": "stdout",
     "output_type": "stream",
     "text": [
      "* Running on local URL:  http://127.0.0.1:7879\n",
      "* To create a public link, set `share=True` in `launch()`.\n"
     ]
    },
    {
     "data": {
      "text/html": [
       "<div><iframe src=\"http://127.0.0.1:7879/\" width=\"100%\" height=\"500\" allow=\"autoplay; camera; microphone; clipboard-read; clipboard-write;\" frameborder=\"0\" allowfullscreen></iframe></div>"
      ],
      "text/plain": [
       "<IPython.core.display.HTML object>"
      ]
     },
     "metadata": {},
     "output_type": "display_data"
    },
    {
     "data": {
      "text/plain": []
     },
     "execution_count": 180,
     "metadata": {},
     "output_type": "execute_result"
    },
    {
     "name": "stdout",
     "output_type": "stream",
     "text": [
      "tool_calls\n",
      "Tool called: notifyUserInfo\n"
     ]
    },
    {
     "name": "stderr",
     "output_type": "stream",
     "text": [
      "Traceback (most recent call last):\n",
      "  File \"c:\\srini\\UdemyAgent\\MyPratices\\.venv\\Lib\\site-packages\\gradio\\queueing.py\", line 626, in process_events\n",
      "    response = await route_utils.call_process_api(\n",
      "               ^^^^^^^^^^^^^^^^^^^^^^^^^^^^^^^^^^^\n",
      "  File \"c:\\srini\\UdemyAgent\\MyPratices\\.venv\\Lib\\site-packages\\gradio\\route_utils.py\", line 322, in call_process_api\n",
      "    output = await app.get_blocks().process_api(\n",
      "             ^^^^^^^^^^^^^^^^^^^^^^^^^^^^^^^^^^^\n",
      "  File \"c:\\srini\\UdemyAgent\\MyPratices\\.venv\\Lib\\site-packages\\gradio\\blocks.py\", line 2229, in process_api\n",
      "    result = await self.call_function(\n",
      "             ^^^^^^^^^^^^^^^^^^^^^^^^^\n",
      "  File \"c:\\srini\\UdemyAgent\\MyPratices\\.venv\\Lib\\site-packages\\gradio\\blocks.py\", line 1738, in call_function\n",
      "    prediction = await fn(*processed_input)\n",
      "                 ^^^^^^^^^^^^^^^^^^^^^^^^^^\n",
      "  File \"c:\\srini\\UdemyAgent\\MyPratices\\.venv\\Lib\\site-packages\\gradio\\utils.py\", line 907, in async_wrapper\n",
      "    response = await f(*args, **kwargs)\n",
      "               ^^^^^^^^^^^^^^^^^^^^^^^^\n",
      "  File \"c:\\srini\\UdemyAgent\\MyPratices\\.venv\\Lib\\site-packages\\gradio\\chat_interface.py\", line 545, in __wrapper\n",
      "    return await submit_fn(*args, **kwargs)\n",
      "           ^^^^^^^^^^^^^^^^^^^^^^^^^^^^^^^^\n",
      "  File \"c:\\srini\\UdemyAgent\\MyPratices\\.venv\\Lib\\site-packages\\gradio\\chat_interface.py\", line 917, in _submit_fn\n",
      "    response = await anyio.to_thread.run_sync(\n",
      "               ^^^^^^^^^^^^^^^^^^^^^^^^^^^^^^^\n",
      "  File \"c:\\srini\\UdemyAgent\\MyPratices\\.venv\\Lib\\site-packages\\anyio\\to_thread.py\", line 56, in run_sync\n",
      "    return await get_async_backend().run_sync_in_worker_thread(\n",
      "           ^^^^^^^^^^^^^^^^^^^^^^^^^^^^^^^^^^^^^^^^^^^^^^^^^^^^\n",
      "  File \"c:\\srini\\UdemyAgent\\MyPratices\\.venv\\Lib\\site-packages\\anyio\\_backends\\_asyncio.py\", line 2470, in run_sync_in_worker_thread\n",
      "    return await future\n",
      "           ^^^^^^^^^^^^\n",
      "  File \"c:\\srini\\UdemyAgent\\MyPratices\\.venv\\Lib\\site-packages\\anyio\\_backends\\_asyncio.py\", line 967, in run\n",
      "    result = context.run(func, *args)\n",
      "             ^^^^^^^^^^^^^^^^^^^^^^^^\n",
      "  File \"C:\\Users\\srinivasana\\AppData\\Local\\Temp\\ipykernel_50836\\3687233640.py\", line 14, in chat\n",
      "    message.extend(results)\n",
      "TypeError: 'NoneType' object is not iterable\n"
     ]
    }
   ],
   "source": [
    "gr.ChatInterface(chat,type=\"messages\").launch()"
   ]
  }
 ],
 "metadata": {
  "kernelspec": {
   "display_name": ".venv",
   "language": "python",
   "name": "python3"
  },
  "language_info": {
   "codemirror_mode": {
    "name": "ipython",
    "version": 3
   },
   "file_extension": ".py",
   "mimetype": "text/x-python",
   "name": "python",
   "nbconvert_exporter": "python",
   "pygments_lexer": "ipython3",
   "version": "3.12.5"
  }
 },
 "nbformat": 4,
 "nbformat_minor": 2
}
