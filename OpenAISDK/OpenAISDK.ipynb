{
 "cells": [
  {
   "cell_type": "code",
   "execution_count": 31,
   "metadata": {},
   "outputs": [],
   "source": [
    "from dotenv import load_dotenv\n",
    "from agents import Agent, Runner,trace, OpenAIChatCompletionsModel, OutputGuardrail, GuardrailFunctionOutput,OutputGuardrailTripwireTriggered\n",
    "from openai import AsyncOpenAI\n",
    "from pydantic import BaseModel\n",
    "import os\n",
    "#print(os.getenv(\"OPENROUTER_API_KEY\"))"
   ]
  },
  {
   "cell_type": "code",
   "execution_count": 32,
   "metadata": {},
   "outputs": [],
   "source": [
    "#Create the client\n",
    "client = AsyncOpenAI(base_url=\"https://openrouter.ai/api/v1\",\n",
    "                      api_key=os.getenv(\"OPENROUTER_API_KEY\"))"
   ]
  },
  {
   "cell_type": "code",
   "execution_count": 33,
   "metadata": {},
   "outputs": [],
   "source": [
    "#Create Open AI Chat Completaion Model\n",
    "openroutermodel= OpenAIChatCompletionsModel(openai_client=client, model=\"tngtech/deepseek-r1t2-chimera:free\")"
   ]
  },
  {
   "cell_type": "code",
   "execution_count": 34,
   "metadata": {},
   "outputs": [],
   "source": [
    "class MessageOutput(BaseModel):\n",
    "    response:str\n",
    "\n",
    "class Output(BaseModel):\n",
    "    is_valid: bool\n",
    "    response: str\n",
    "\n",
    "outputvalidate = Agent(name=\"outputvalidate\",\n",
    "                       instructions=\"check if joke is on Math. if yes than set is_valid to true.\",\n",
    "                       model=\"gpt-4.1-mini\",\n",
    "                        output_type=Output)\n",
    "\n",
    "@OutputGuardrail\n",
    "async def validateResponse(cxt, agent, input):\n",
    "    respose = await Runner.run(starting_agent=outputvalidate, \n",
    "                               context=cxt.context,\n",
    "                               input=input)\n",
    "    return GuardrailFunctionOutput(output_info=respose.final_output, \n",
    "                                   tripwire_triggered=respose.final_output.is_valid)\n",
    "    \n",
    "    \n",
    "\n",
    "\n"
   ]
  },
  {
   "cell_type": "code",
   "execution_count": 35,
   "metadata": {},
   "outputs": [],
   "source": [
    "#Create AIAgent\n",
    "aiagent = Agent(name=\"Joker\", instructions=\"Tell me a joke\",\n",
    "              model=\"gpt-4.1-mini\", output_guardrails=[validateResponse])"
   ]
  },
  {
   "cell_type": "code",
   "execution_count": 36,
   "metadata": {},
   "outputs": [
    {
     "name": "stdout",
     "output_type": "stream",
     "text": [
      "Sure! Here's an AI joke for you:\n",
      "\n",
      "Why did the AI go to therapy?\n",
      "\n",
      "Because it had too many neural issues!\n"
     ]
    }
   ],
   "source": [
    "with trace(\"Joke\"):\n",
    "    try:\n",
    "        response = await Runner.run(aiagent,\"Tell me joke on AI\")\n",
    "        print(response.final_output)\n",
    "    except OutputGuardrailTripwireTriggered:\n",
    "        print(\"Guardrail has been tiggered\")"
   ]
  }
 ],
 "metadata": {
  "kernelspec": {
   "display_name": "agents",
   "language": "python",
   "name": "python3"
  },
  "language_info": {
   "codemirror_mode": {
    "name": "ipython",
    "version": 3
   },
   "file_extension": ".py",
   "mimetype": "text/x-python",
   "name": "python",
   "nbconvert_exporter": "python",
   "pygments_lexer": "ipython3",
   "version": "3.12.5"
  }
 },
 "nbformat": 4,
 "nbformat_minor": 2
}
