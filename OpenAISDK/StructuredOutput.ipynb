{
 "cells": [
  {
   "cell_type": "code",
   "execution_count": 1,
   "id": "7890c0d5",
   "metadata": {},
   "outputs": [],
   "source": [
    "from pydantic import BaseModel\n",
    "import os\n",
    "from dotenv import load_dotenv\n",
    "from agents import Agent, Runner"
   ]
  },
  {
   "cell_type": "code",
   "execution_count": null,
   "id": "5d92aab8",
   "metadata": {},
   "outputs": [
    {
     "name": "stdout",
     "output_type": "stream",
     "text": [
      "Here are three different ways to search for the latest FIAT cars:\n",
      "\n",
      "1. **Direct Search:**\n",
      "   - \"Latest FIAT cars 2023\"\n",
      "\n",
      "2. **Feature-oriented Search:**\n",
      "   - \"New FIAT car models with specifications 2023\"\n",
      "\n",
      "3. **News and Updates Search:**\n",
      "   - \"Recent releases and news about FIAT cars 2023\"\n"
     ]
    }
   ],
   "source": [
    "class WebSearchItem(BaseModel):\n",
    "    reasoning:str\n",
    "    \"you need add your reasoning here why part\"\n",
    "    query:str\n",
    "    \"Query you have generated\"\n",
    "\n",
    "class WebSearch(BaseModel):\n",
    "    output: list[WebSearchItem]\n",
    "    \"its list of web search you have done for the request.\"\n",
    "\n",
    "differentWays = 3\n",
    "\n",
    "inst = f\"your are web search Agent. For the every search term, generate me the query how we can search in {differentWays} different ways\"\n",
    "\n",
    "agent = Agent(name=\"webSearch\",\n",
    "              instructions= inst,\n",
    "               model=\"gpt-4o-mini\",\n",
    "                output_type= WebSearch )\n",
    "\n",
    "response = await Runner.run(starting_agent=agent, input=\"latest FIAT cars\")\n",
    "\n",
    "print(response.final_output)\n",
    "\n"
   ]
  }
 ],
 "metadata": {
  "kernelspec": {
   "display_name": "agents",
   "language": "python",
   "name": "python3"
  },
  "language_info": {
   "codemirror_mode": {
    "name": "ipython",
    "version": 3
   },
   "file_extension": ".py",
   "mimetype": "text/x-python",
   "name": "python",
   "nbconvert_exporter": "python",
   "pygments_lexer": "ipython3",
   "version": "3.12.5"
  }
 },
 "nbformat": 4,
 "nbformat_minor": 5
}
