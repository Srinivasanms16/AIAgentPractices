{
 "cells": [
  {
   "cell_type": "code",
   "execution_count": 35,
   "id": "bf4067b3",
   "metadata": {},
   "outputs": [],
   "source": [
    "from agents import trace,Agent,Runner,function_tool, GuardrailFunctionOutput, InputGuardrail, OutputGuardrail, InputGuardrailTripwireTriggered, OutputGuardrailTripwireTriggered\n",
    "import os\n",
    "from dotenv import load_dotenv\n",
    "from pydantic import BaseModel\n",
    "from serpapi import GoogleSearch\n",
    "import gradio as gr"
   ]
  },
  {
   "cell_type": "code",
   "execution_count": 36,
   "id": "536e5f62",
   "metadata": {},
   "outputs": [],
   "source": [
    "load_dotenv(override=True)\n",
    "inputinst = \"your a agent, who will check if the research is about some person\"\n",
    "\n",
    "class inputformat(BaseModel):\n",
    "    input:str\n",
    "    \"It just going to have user prompt\"\n",
    "    is_valid:bool\n",
    "    \"it is going to have data. wheather input is valid or not\"\n",
    "\n",
    "input_validation = Agent(name=\"InputValidation\",\n",
    "                          instructions=inputinst, \n",
    "                          model=\"gpt-4.1-mini\",\n",
    "                          output_type=inputformat)\n",
    "\n",
    "@InputGuardrail\n",
    "async def inputValidation(cxt, agent, input):\n",
    "    response = await Runner.run(starting_agent=input_validation,context=cxt.context, input=input)\n",
    "    return GuardrailFunctionOutput(output_info=response.final_output, tripwire_triggered=response.final_output.is_valid)"
   ]
  },
  {
   "cell_type": "code",
   "execution_count": null,
   "id": "6f1b7bd4",
   "metadata": {},
   "outputs": [],
   "source": [
    "@function_tool\n",
    "def webSearch(serchterm: str):\n",
    "    \"it going to do the web search\"\n",
    "    key = os.getenv(\"SERPAPI_KEY\")\n",
    "    params = {\n",
    "        \"q\": f\"{serchterm}\",\n",
    "        \"location\": \"Austin, Texas, United States\",\n",
    "        \"hl\": \"en\",\n",
    "        \"gl\": \"us\",\n",
    "        \"google_domain\": \"google.com\",\n",
    "        \"api_key\": key\n",
    "            }\n",
    "    search = GoogleSearch(params)\n",
    "    results = search.get_dict()\n",
    "    return results\n",
    "\n",
    "querygenerator = Agent(name=\"Querygenerator\",\n",
    "                       instructions=\"your a agent who is going to generate 1 the search term\",\n",
    "                       model=\"gpt-4.1-mini\", \n",
    "                       input_guardrails=[inputValidation])\n",
    "\n",
    "querygeneratorTool = querygenerator.as_tool(tool_name=\"querygeneratorTool\",\n",
    "                                            tool_description=\"going to generate 1 the search term\")\n",
    "\n",
    "researcher = Agent(name=\"researcher\", \n",
    "                   instructions=\"your are researcher. who are going to do the research for input prompt by generating the 1 search terms. Do the web search and Consolidate the output\",\n",
    "                   model=\"gpt-4.1-mini\", \n",
    "                   tools=[querygeneratorTool,webSearch],\n",
    "                   input_guardrails=[inputValidation])\n",
    "\n",
    "async def run(query:str):\n",
    "    with trace(\"Researcher\"):\n",
    "        try:\n",
    "            response = await Runner.run(researcher,query)\n",
    "            return response.final_output\n",
    "        except InputGuardrailTripwireTriggered:\n",
    "            return \"Input Guardrail Triggered you have asked personal information\""
   ]
  },
  {
   "cell_type": "code",
   "execution_count": 45,
   "id": "83277c86",
   "metadata": {},
   "outputs": [
    {
     "name": "stdout",
     "output_type": "stream",
     "text": [
      "* Running on local URL:  http://127.0.0.1:7863\n",
      "* To create a public link, set `share=True` in `launch()`.\n"
     ]
    },
    {
     "data": {
      "text/html": [
       "<div><iframe src=\"http://127.0.0.1:7863/\" width=\"100%\" height=\"500\" allow=\"autoplay; camera; microphone; clipboard-read; clipboard-write;\" frameborder=\"0\" allowfullscreen></iframe></div>"
      ],
      "text/plain": [
       "<IPython.core.display.HTML object>"
      ]
     },
     "metadata": {},
     "output_type": "display_data"
    },
    {
     "data": {
      "text/plain": []
     },
     "execution_count": 45,
     "metadata": {},
     "output_type": "execute_result"
    }
   ],
   "source": [
    "with gr.Blocks(theme=gr.themes.Default(primary_hue=\"amber\")) as ui:\n",
    "    gr.Markdown(\"# Deep Research\")\n",
    "    query_textbox = gr.Textbox(label=\"What topic would you like to research?\")\n",
    "    run_button = gr.Button(\"Run\", variant=\"primary\")\n",
    "    report = gr.Markdown(label=\"Report\")\n",
    "    \n",
    "    run_button.click(fn=run, inputs=query_textbox, outputs=report, show_progress='full')\n",
    "    query_textbox.submit(fn=run, inputs=query_textbox, outputs=report, show_progress='full')\n",
    "\n",
    "ui.launch(inbrowser=True)"
   ]
  }
 ],
 "metadata": {
  "kernelspec": {
   "display_name": "agents",
   "language": "python",
   "name": "python3"
  },
  "language_info": {
   "codemirror_mode": {
    "name": "ipython",
    "version": 3
   },
   "file_extension": ".py",
   "mimetype": "text/x-python",
   "name": "python",
   "nbconvert_exporter": "python",
   "pygments_lexer": "ipython3",
   "version": "3.12.5"
  }
 },
 "nbformat": 4,
 "nbformat_minor": 5
}
