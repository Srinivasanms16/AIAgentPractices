{
 "cells": [
  {
   "cell_type": "code",
   "execution_count": 1,
   "id": "bd9168a2",
   "metadata": {},
   "outputs": [],
   "source": [
    "from dotenv import load_dotenv\n",
    "from agents import Agent, Runner, trace, function_tool,OpenAIChatCompletionsModel, output_guardrail, input_guardrail, output_guardrail,InputGuardrailTripwireTriggered, GuardrailFunctionOutput,RunContextWrapper,TResponseInputItem, OutputGuardrailTripwireTriggered\n",
    "from openai.types.responses import ResponseTextDeltaEvent\n",
    "from typing import Dict\n",
    "from openai import  AsyncOpenAI\n",
    "import sendgrid\n",
    "import os\n",
    "from sendgrid.helpers.mail import Mail, Email, To, Content\n",
    "import asyncio\n",
    "from pydantic import BaseModel"
   ]
  },
  {
   "cell_type": "code",
   "execution_count": 269,
   "id": "98c17546",
   "metadata": {},
   "outputs": [
    {
     "data": {
      "text/plain": [
       "True"
      ]
     },
     "execution_count": 269,
     "metadata": {},
     "output_type": "execute_result"
    }
   ],
   "source": [
    "load_dotenv(override=True)"
   ]
  },
  {
   "cell_type": "code",
   "execution_count": null,
   "id": "9c4bae02",
   "metadata": {},
   "outputs": [],
   "source": [
    "@function_tool\n",
    "def send_email(body: str):\n",
    "    \"\"\" Send out an email with the given body \"\"\"\n",
    "    sg = sendgrid.SendGridAPIClient(api_key=os.environ.get('SENDGRID_API_KEY'))\n",
    "    from_email = Email(\"srinivasanms16@gmail.com\")  # Change to your verified sender\n",
    "    to_email = To(\"srinivasanms16@gmail.com\")  # Change to your recipient\n",
    "    content = Content(\"text/html\", body)\n",
    "    mail = Mail(from_email, to_email,\"sub\", content).get()\n",
    "    sg.client.mail.send.post(request_body=mail)\n",
    "    #return {\"status\": \"success\"}"
   ]
  },
  {
   "cell_type": "code",
   "execution_count": 271,
   "id": "6f2673a5",
   "metadata": {},
   "outputs": [],
   "source": [
    "client = AsyncOpenAI(base_url=\"https://openrouter.ai/api/v1\",api_key=os.getenv(\"OPENROUTER_API_KEY\"))\n",
    "openRouterModel = OpenAIChatCompletionsModel(openai_client=client,model=\"tngtech/deepseek-r1t2-chimera:free\")"
   ]
  },
  {
   "cell_type": "code",
   "execution_count": null,
   "id": "f17e524c",
   "metadata": {},
   "outputs": [],
   "source": [
    "class MessageOutput(BaseModel): \n",
    "    response: str\n",
    "\n",
    "class OutputValidation(BaseModel):\n",
    "    reasoning:str\n",
    "    is_complain : bool\n",
    "\n",
    "responseValidator = Agent(name=\"Response_Validator\",\n",
    "                          instructions=\"Check if the email is complain\",\n",
    "                          model=\"gpt-4.1-mini\",\n",
    "                          output_type=OutputValidation)\n",
    "\n",
    "@output_guardrail\n",
    "async def validateResponse(\n",
    "   ctx: RunContextWrapper[None], agent: Agent, input: str | list[TResponseInputItem]\n",
    "    ) -> GuardrailFunctionOutput:\n",
    "    print(\"Output Guardrail is called..!\")\n",
    "    response = await Runner.run(starting_agent=responseValidator,context=ctx.context, \n",
    "                                input=input)\n",
    "    return GuardrailFunctionOutput(output_info=response.final_output, \n",
    "                                   tripwire_triggered=response.final_output.is_complain)\n",
    "    "
   ]
  },
  {
   "cell_type": "code",
   "execution_count": 273,
   "id": "e6b61fa1",
   "metadata": {},
   "outputs": [],
   "source": [
    "#Bussiness Email Generator\n",
    "BussinessEmailGenerator = Agent(name=\"Bussiness_Email_Generator\",\n",
    "                                 instructions=\"Generate the email in bussiness or professional tone\",\n",
    "                                 model=openRouterModel)\n",
    "#Bussiness Email Generator Tool\n",
    "BussinessEmailGeneratorTool = BussinessEmailGenerator.as_tool(tool_name=\"Bussiness_Email_Generator_tool\",\n",
    "                                                              tool_description=\"Generate the email in bussiness or professional tone\")\n",
    "#Friendly Email Generator \n",
    "friendlyEmailGenerator = Agent(name=\"Friendly_Email_Generator\",\n",
    "                               instructions=\"Generator the email in friendly or unprofessional tone\",\n",
    "                               model=openRouterModel)\n",
    "#Friendly Email Generator Tool\n",
    "friendlyEmailGeneratorTool = friendlyEmailGenerator.as_tool(tool_name=\"friendly_Email_Generator_Tool\",\n",
    "                                                            tool_description=\"Generator the email in friendly or unprofessional tone\")\n",
    "# HTML Formator and email sender \n",
    "formaterandsender = Agent(name=\"formater_sender\",\n",
    "                 instructions=\"your a agent who will apply html format to the email and send the email\",\n",
    "                 tools=[send_email],\n",
    "                 output_guardrails=[validateResponse])\n",
    "\n",
    "\n",
    "#Email Generator Agent\n",
    "EmailGeneratorSender = Agent(name=\"Email_generator\",\n",
    "                       instructions=\"Generator email depending upon the request and format the email and send the email\",\n",
    "                       model =\"gpt-4.1-mini\",\n",
    "                       tools=[BussinessEmailGeneratorTool,friendlyEmailGeneratorTool],\n",
    "                       handoffs=[formaterandsender])\n",
    "\n"
   ]
  },
  {
   "cell_type": "code",
   "execution_count": 274,
   "id": "22733099",
   "metadata": {},
   "outputs": [],
   "source": [
    "class PersonalInfoPresent(BaseModel):\n",
    "    input:str\n",
    "    is_Personal_Info_avaliable:bool\n",
    "\n",
    "InputGuardrail = Agent(name=\"PersonalInfoCheck\",\n",
    "                       instructions=\"Check is any personal information such as name or emailid is present\"\n",
    "                       ,model=\"gpt-4.1-mini\",\n",
    "                       output_type=PersonalInfoPresent)"
   ]
  },
  {
   "cell_type": "code",
   "execution_count": 275,
   "id": "529c4725",
   "metadata": {},
   "outputs": [],
   "source": [
    "@input_guardrail\n",
    "async def checkPersonalInfoPresent( \n",
    "    ctx, agent, input\n",
    ") -> GuardrailFunctionOutput:\n",
    "    response = await Runner.run(starting_agent=InputGuardrail,input=input,context=ctx.context)\n",
    "    return GuardrailFunctionOutput(output_info=response.final_output, \n",
    "                                   tripwire_triggered=response.final_output.is_Personal_Info_avaliable)\n"
   ]
  },
  {
   "cell_type": "code",
   "execution_count": 276,
   "id": "2584a8ab",
   "metadata": {},
   "outputs": [
    {
     "name": "stdout",
     "output_type": "stream",
     "text": [
      "Agent(name='Notifier', instructions='your the Notifier. who will have to Notify to user', prompt=None, handoff_description=None, handoffs=[Agent(name='Email_generator', instructions='Generator email depending upon the request and format the email and send the email', prompt=None, handoff_description=None, handoffs=[Agent(name='formater_sender', instructions='your a agent who will apply html format to the email and send the email', prompt=None, handoff_description=None, handoffs=[], model=None, model_settings=ModelSettings(temperature=None, top_p=None, frequency_penalty=None, presence_penalty=None, tool_choice=None, parallel_tool_calls=None, truncation=None, max_tokens=None, reasoning=None, metadata=None, store=None, include_usage=None, response_include=None, extra_query=None, extra_body=None, extra_headers=None, extra_args=None), tools=[FunctionTool(name='send_email', description='Send out an email with the given body', params_json_schema={'properties': {'body': {'title': 'Body', 'type': 'string'}}, 'required': ['body'], 'title': 'send_email_args', 'type': 'object', 'additionalProperties': False}, on_invoke_tool=<function function_tool.<locals>._create_function_tool.<locals>._on_invoke_tool at 0x000001F7B8DA2E80>, strict_json_schema=True, is_enabled=True)], mcp_servers=[], mcp_config={}, input_guardrails=[], output_guardrails=[OutputGuardrail(guardrail_function=<function validateResponse at 0x000001F7B8DA0CC0>, name=None)], output_type=None, hooks=None, tool_use_behavior='run_llm_again', reset_tool_choice=True)], model='gpt-4.1-mini', model_settings=ModelSettings(temperature=None, top_p=None, frequency_penalty=None, presence_penalty=None, tool_choice=None, parallel_tool_calls=None, truncation=None, max_tokens=None, reasoning=None, metadata=None, store=None, include_usage=None, response_include=None, extra_query=None, extra_body=None, extra_headers=None, extra_args=None), tools=[FunctionTool(name='Bussiness_Email_Generator_tool', description='Generate the email in bussiness or professional tone', params_json_schema={'properties': {'input': {'title': 'Input', 'type': 'string'}}, 'required': ['input'], 'title': 'Bussiness_Email_Generator_tool_args', 'type': 'object', 'additionalProperties': False}, on_invoke_tool=<function function_tool.<locals>._create_function_tool.<locals>._on_invoke_tool at 0x000001F7B8DA1580>, strict_json_schema=True, is_enabled=True), FunctionTool(name='friendly_Email_Generator_Tool', description='Generator the email in friendly or unprofessional tone', params_json_schema={'properties': {'input': {'title': 'Input', 'type': 'string'}}, 'required': ['input'], 'title': 'friendly_Email_Generator_Tool_args', 'type': 'object', 'additionalProperties': False}, on_invoke_tool=<function function_tool.<locals>._create_function_tool.<locals>._on_invoke_tool at 0x000001F7B8DA2AC0>, strict_json_schema=True, is_enabled=True)], mcp_servers=[], mcp_config={}, input_guardrails=[], output_guardrails=[], output_type=None, hooks=None, tool_use_behavior='run_llm_again', reset_tool_choice=True)], model='gpt-4.1-mini', model_settings=ModelSettings(temperature=None, top_p=None, frequency_penalty=None, presence_penalty=None, tool_choice=None, parallel_tool_calls=None, truncation=None, max_tokens=None, reasoning=None, metadata=None, store=None, include_usage=None, response_include=None, extra_query=None, extra_body=None, extra_headers=None, extra_args=None), tools=[], mcp_servers=[], mcp_config={}, input_guardrails=[InputGuardrail(guardrail_function=<function checkPersonalInfoPresent at 0x000001F7B8DA2DE0>, name=None)], output_guardrails=[OutputGuardrail(guardrail_function=<function validateResponse at 0x000001F7B8DA0CC0>, name=None)], output_type=<class '__main__.MessageOutput'>, hooks=None, tool_use_behavior='run_llm_again', reset_tool_choice=True)\n"
     ]
    }
   ],
   "source": [
    "NotifierAgent = Agent(name=\"Notifier\",\n",
    "                      instructions=\"your the Notifier. who will have to Notify to user\",\n",
    "                      handoffs=[EmailGeneratorSender],\n",
    "                      input_guardrails=[checkPersonalInfoPresent],\n",
    "                      output_guardrails=[validateResponse],\n",
    "                      model=\"gpt-4.1-mini\",\n",
    "                      output_type=MessageOutput \n",
    "                      )\n",
    "\n",
    "print(NotifierAgent)\n"
   ]
  },
  {
   "cell_type": "code",
   "execution_count": 278,
   "id": "b3f5a834",
   "metadata": {},
   "outputs": [
    {
     "name": "stdout",
     "output_type": "stream",
     "text": [
      "its called..!\n",
      "The email regarding your complaint on customer service has been formatted and sent successfully. If there's anything else you need, feel free to ask!\n"
     ]
    }
   ],
   "source": [
    "with trace(\"Notifier\"):\n",
    "    try:\n",
    "        result = await Runner.run(NotifierAgent,\n",
    "                              \"notify user using email regarding my Complain on customer service in 50 words and send it.\")\n",
    "        print(result.final_output)\n",
    "    except InputGuardrailTripwireTriggered:\n",
    "        print(\"Validation failed: you have provided the Personal Information\")\n",
    "    \n",
    "    except OutputGuardrailTripwireTriggered:\n",
    "         print(\"Validation failed: its has generated the complain email\")"
   ]
  }
 ],
 "metadata": {
  "kernelspec": {
   "display_name": "agents",
   "language": "python",
   "name": "python3"
  },
  "language_info": {
   "codemirror_mode": {
    "name": "ipython",
    "version": 3
   },
   "file_extension": ".py",
   "mimetype": "text/x-python",
   "name": "python",
   "nbconvert_exporter": "python",
   "pygments_lexer": "ipython3",
   "version": "3.12.5"
  }
 },
 "nbformat": 4,
 "nbformat_minor": 5
}
